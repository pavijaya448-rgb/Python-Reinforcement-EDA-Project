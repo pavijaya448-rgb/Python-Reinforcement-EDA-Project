{
 "cells": [
  {
   "cell_type": "markdown",
   "id": "49f8608b-6df5-45c7-93a6-b7de2c492283",
   "metadata": {},
   "source": [
    "## NYC RESTAURANT INSPECTION RESULTS"
   ]
  },
  {
   "cell_type": "markdown",
   "id": "4a6ac034-541e-4b8b-8472-7c7dec10dc47",
   "metadata": {},
   "source": [
    "### Importing libraries"
   ]
  },
  {
   "cell_type": "code",
   "execution_count": 17,
   "id": "6340b789-bf25-4781-adb0-bddeaf60eff2",
   "metadata": {},
   "outputs": [],
   "source": [
    "import pandas as pd\n",
    "import numpy as np\n",
    "import matplotlib.pyplot as plt\n",
    "import seaborn as sns\n",
    "import datetime as dt\n",
    "import warnings\n",
    "warnings.filterwarnings('ignore')"
   ]
  },
  {
   "cell_type": "markdown",
   "id": "c6cd090a-3de0-494b-a82b-13bc3058a8c8",
   "metadata": {},
   "source": [
    "### Loading the dataset"
   ]
  },
  {
   "cell_type": "code",
   "execution_count": 18,
   "id": "5e110d9c-6c08-4a26-bed6-49595b4f2265",
   "metadata": {},
   "outputs": [
    {
     "data": {
      "text/html": [
       "<div>\n",
       "<style scoped>\n",
       "    .dataframe tbody tr th:only-of-type {\n",
       "        vertical-align: middle;\n",
       "    }\n",
       "\n",
       "    .dataframe tbody tr th {\n",
       "        vertical-align: top;\n",
       "    }\n",
       "\n",
       "    .dataframe thead th {\n",
       "        text-align: right;\n",
       "    }\n",
       "</style>\n",
       "<table border=\"1\" class=\"dataframe\">\n",
       "  <thead>\n",
       "    <tr style=\"text-align: right;\">\n",
       "      <th></th>\n",
       "      <th>CAMIS</th>\n",
       "      <th>DBA</th>\n",
       "      <th>BORO</th>\n",
       "      <th>BUILDING</th>\n",
       "      <th>STREET</th>\n",
       "      <th>ZIPCODE</th>\n",
       "      <th>PHONE</th>\n",
       "      <th>CUISINE DESCRIPTION</th>\n",
       "      <th>INSPECTION DATE</th>\n",
       "      <th>ACTION</th>\n",
       "      <th>...</th>\n",
       "      <th>INSPECTION TYPE</th>\n",
       "      <th>Latitude</th>\n",
       "      <th>Longitude</th>\n",
       "      <th>Community Board</th>\n",
       "      <th>Council District</th>\n",
       "      <th>Census Tract</th>\n",
       "      <th>BIN</th>\n",
       "      <th>BBL</th>\n",
       "      <th>NTA</th>\n",
       "      <th>Location Point1</th>\n",
       "    </tr>\n",
       "  </thead>\n",
       "  <tbody>\n",
       "    <tr>\n",
       "      <th>0</th>\n",
       "      <td>50114537</td>\n",
       "      <td>MAMA'S CUPBOARD</td>\n",
       "      <td>Manhattan</td>\n",
       "      <td>42</td>\n",
       "      <td>WEST   42 STREET</td>\n",
       "      <td>10036.0</td>\n",
       "      <td>6469191465</td>\n",
       "      <td>NaN</td>\n",
       "      <td>01-01-1900</td>\n",
       "      <td>NaN</td>\n",
       "      <td>...</td>\n",
       "      <td>NaN</td>\n",
       "      <td>40.754068</td>\n",
       "      <td>-73.982321</td>\n",
       "      <td>105.0</td>\n",
       "      <td>4.0</td>\n",
       "      <td>8400.0</td>\n",
       "      <td>1085593.0</td>\n",
       "      <td>1.012570e+09</td>\n",
       "      <td>MN17</td>\n",
       "      <td>NaN</td>\n",
       "    </tr>\n",
       "    <tr>\n",
       "      <th>1</th>\n",
       "      <td>50164148</td>\n",
       "      <td>TIENDA CHICOJ</td>\n",
       "      <td>Queens</td>\n",
       "      <td>10840</td>\n",
       "      <td>ROOSEVELT AVE</td>\n",
       "      <td>11368.0</td>\n",
       "      <td>7189166374</td>\n",
       "      <td>NaN</td>\n",
       "      <td>01-01-1900</td>\n",
       "      <td>NaN</td>\n",
       "      <td>...</td>\n",
       "      <td>NaN</td>\n",
       "      <td>40.750845</td>\n",
       "      <td>-73.858280</td>\n",
       "      <td>404.0</td>\n",
       "      <td>21.0</td>\n",
       "      <td>40100.0</td>\n",
       "      <td>4307718.0</td>\n",
       "      <td>4.019960e+09</td>\n",
       "      <td>QN26</td>\n",
       "      <td>NaN</td>\n",
       "    </tr>\n",
       "    <tr>\n",
       "      <th>2</th>\n",
       "      <td>50169870</td>\n",
       "      <td>TEX'S CHICKEN &amp; BURGERS</td>\n",
       "      <td>Queens</td>\n",
       "      <td>21712</td>\n",
       "      <td>MERRICK BLVD</td>\n",
       "      <td>11413.0</td>\n",
       "      <td>9178850048</td>\n",
       "      <td>NaN</td>\n",
       "      <td>01-01-1900</td>\n",
       "      <td>NaN</td>\n",
       "      <td>...</td>\n",
       "      <td>NaN</td>\n",
       "      <td>40.679915</td>\n",
       "      <td>-73.752087</td>\n",
       "      <td>413.0</td>\n",
       "      <td>31.0</td>\n",
       "      <td>35800.0</td>\n",
       "      <td>4279942.0</td>\n",
       "      <td>4.130110e+09</td>\n",
       "      <td>QN66</td>\n",
       "      <td>NaN</td>\n",
       "    </tr>\n",
       "    <tr>\n",
       "      <th>3</th>\n",
       "      <td>50132087</td>\n",
       "      <td>FANTASTIC BEASTS</td>\n",
       "      <td>Queens</td>\n",
       "      <td>36-10</td>\n",
       "      <td>UNION STREET</td>\n",
       "      <td>11354.0</td>\n",
       "      <td>2538807717</td>\n",
       "      <td>NaN</td>\n",
       "      <td>01-01-1900</td>\n",
       "      <td>NaN</td>\n",
       "      <td>...</td>\n",
       "      <td>NaN</td>\n",
       "      <td>40.763482</td>\n",
       "      <td>-73.828056</td>\n",
       "      <td>407.0</td>\n",
       "      <td>20.0</td>\n",
       "      <td>86900.0</td>\n",
       "      <td>4112354.0</td>\n",
       "      <td>4.049770e+09</td>\n",
       "      <td>QN22</td>\n",
       "      <td>NaN</td>\n",
       "    </tr>\n",
       "    <tr>\n",
       "      <th>4</th>\n",
       "      <td>50172040</td>\n",
       "      <td>BROAD STREET DELI</td>\n",
       "      <td>Manhattan</td>\n",
       "      <td>270</td>\n",
       "      <td>PARK AVENUE</td>\n",
       "      <td>10017.0</td>\n",
       "      <td>7043286780</td>\n",
       "      <td>NaN</td>\n",
       "      <td>01-01-1900</td>\n",
       "      <td>NaN</td>\n",
       "      <td>...</td>\n",
       "      <td>NaN</td>\n",
       "      <td>40.755634</td>\n",
       "      <td>-73.975109</td>\n",
       "      <td>105.0</td>\n",
       "      <td>4.0</td>\n",
       "      <td>9400.0</td>\n",
       "      <td>1035421.0</td>\n",
       "      <td>1.012830e+09</td>\n",
       "      <td>MN17</td>\n",
       "      <td>NaN</td>\n",
       "    </tr>\n",
       "    <tr>\n",
       "      <th>...</th>\n",
       "      <td>...</td>\n",
       "      <td>...</td>\n",
       "      <td>...</td>\n",
       "      <td>...</td>\n",
       "      <td>...</td>\n",
       "      <td>...</td>\n",
       "      <td>...</td>\n",
       "      <td>...</td>\n",
       "      <td>...</td>\n",
       "      <td>...</td>\n",
       "      <td>...</td>\n",
       "      <td>...</td>\n",
       "      <td>...</td>\n",
       "      <td>...</td>\n",
       "      <td>...</td>\n",
       "      <td>...</td>\n",
       "      <td>...</td>\n",
       "      <td>...</td>\n",
       "      <td>...</td>\n",
       "      <td>...</td>\n",
       "      <td>...</td>\n",
       "    </tr>\n",
       "    <tr>\n",
       "      <th>290017</th>\n",
       "      <td>50121962</td>\n",
       "      <td>BURGER KING</td>\n",
       "      <td>Brooklyn</td>\n",
       "      <td>9006</td>\n",
       "      <td>CHURCH AVENUE</td>\n",
       "      <td>11236.0</td>\n",
       "      <td>7184985574</td>\n",
       "      <td>Hamburgers</td>\n",
       "      <td>06/17/2022</td>\n",
       "      <td>Violations were cited in the following area(s).</td>\n",
       "      <td>...</td>\n",
       "      <td>Pre-permit (Operational) / Initial Inspection</td>\n",
       "      <td>40.652872</td>\n",
       "      <td>-73.919806</td>\n",
       "      <td>317.0</td>\n",
       "      <td>42.0</td>\n",
       "      <td>88800.0</td>\n",
       "      <td>3103358.0</td>\n",
       "      <td>3.047110e+09</td>\n",
       "      <td>BK96</td>\n",
       "      <td>NaN</td>\n",
       "    </tr>\n",
       "    <tr>\n",
       "      <th>290018</th>\n",
       "      <td>50150281</td>\n",
       "      <td>MADMAN ESPRESSO</td>\n",
       "      <td>Manhattan</td>\n",
       "      <td>721</td>\n",
       "      <td>BROADWAY</td>\n",
       "      <td>10003.0</td>\n",
       "      <td>3477811121</td>\n",
       "      <td>Coffee/Tea</td>\n",
       "      <td>02-10-2025</td>\n",
       "      <td>Violations were cited in the following area(s).</td>\n",
       "      <td>...</td>\n",
       "      <td>Pre-permit (Operational) / Initial Inspection</td>\n",
       "      <td>40.729306</td>\n",
       "      <td>-73.993502</td>\n",
       "      <td>102.0</td>\n",
       "      <td>2.0</td>\n",
       "      <td>5700.0</td>\n",
       "      <td>1088447.0</td>\n",
       "      <td>1.005470e+09</td>\n",
       "      <td>MN23</td>\n",
       "      <td>NaN</td>\n",
       "    </tr>\n",
       "    <tr>\n",
       "      <th>290019</th>\n",
       "      <td>40949905</td>\n",
       "      <td>KA WAH BAKERY</td>\n",
       "      <td>Manhattan</td>\n",
       "      <td>9</td>\n",
       "      <td>ELDRIDGE STREET</td>\n",
       "      <td>10002.0</td>\n",
       "      <td>2122260133</td>\n",
       "      <td>Chinese</td>\n",
       "      <td>07/13/2022</td>\n",
       "      <td>Violations were cited in the following area(s).</td>\n",
       "      <td>...</td>\n",
       "      <td>Cycle Inspection / Initial Inspection</td>\n",
       "      <td>40.714660</td>\n",
       "      <td>-73.993770</td>\n",
       "      <td>103.0</td>\n",
       "      <td>1.0</td>\n",
       "      <td>1600.0</td>\n",
       "      <td>1003772.0</td>\n",
       "      <td>1.002920e+09</td>\n",
       "      <td>MN27</td>\n",
       "      <td>NaN</td>\n",
       "    </tr>\n",
       "    <tr>\n",
       "      <th>290020</th>\n",
       "      <td>50121766</td>\n",
       "      <td>CROSSBAR / SOCCER POST UPPER WESTSIDE</td>\n",
       "      <td>Manhattan</td>\n",
       "      <td>250</td>\n",
       "      <td>WEST   86 STREET</td>\n",
       "      <td>10024.0</td>\n",
       "      <td>2126522238</td>\n",
       "      <td>American</td>\n",
       "      <td>11/14/2022</td>\n",
       "      <td>Violations were cited in the following area(s).</td>\n",
       "      <td>...</td>\n",
       "      <td>Administrative Miscellaneous / Initial Inspection</td>\n",
       "      <td>40.788484</td>\n",
       "      <td>-73.976942</td>\n",
       "      <td>107.0</td>\n",
       "      <td>6.0</td>\n",
       "      <td>17100.0</td>\n",
       "      <td>1081052.0</td>\n",
       "      <td>1.012330e+09</td>\n",
       "      <td>MN12</td>\n",
       "      <td>NaN</td>\n",
       "    </tr>\n",
       "    <tr>\n",
       "      <th>290021</th>\n",
       "      <td>41703865</td>\n",
       "      <td>SAFFRON</td>\n",
       "      <td>Queens</td>\n",
       "      <td>4404</td>\n",
       "      <td>BROADWAY</td>\n",
       "      <td>11103.0</td>\n",
       "      <td>7182556310</td>\n",
       "      <td>Indian</td>\n",
       "      <td>08/16/2022</td>\n",
       "      <td>Violations were cited in the following area(s).</td>\n",
       "      <td>...</td>\n",
       "      <td>Cycle Inspection / Initial Inspection</td>\n",
       "      <td>40.757393</td>\n",
       "      <td>-73.915669</td>\n",
       "      <td>401.0</td>\n",
       "      <td>26.0</td>\n",
       "      <td>15900.0</td>\n",
       "      <td>4012369.0</td>\n",
       "      <td>4.007070e+09</td>\n",
       "      <td>QN70</td>\n",
       "      <td>NaN</td>\n",
       "    </tr>\n",
       "  </tbody>\n",
       "</table>\n",
       "<p>290022 rows × 27 columns</p>\n",
       "</div>"
      ],
      "text/plain": [
       "           CAMIS                                    DBA       BORO BUILDING  \\\n",
       "0       50114537                        MAMA'S CUPBOARD  Manhattan       42   \n",
       "1       50164148                          TIENDA CHICOJ     Queens    10840   \n",
       "2       50169870                TEX'S CHICKEN & BURGERS     Queens    21712   \n",
       "3       50132087                       FANTASTIC BEASTS     Queens    36-10   \n",
       "4       50172040                      BROAD STREET DELI  Manhattan      270   \n",
       "...          ...                                    ...        ...      ...   \n",
       "290017  50121962                            BURGER KING   Brooklyn     9006   \n",
       "290018  50150281                        MADMAN ESPRESSO  Manhattan      721   \n",
       "290019  40949905                          KA WAH BAKERY  Manhattan        9   \n",
       "290020  50121766  CROSSBAR / SOCCER POST UPPER WESTSIDE  Manhattan      250   \n",
       "290021  41703865                                SAFFRON     Queens     4404   \n",
       "\n",
       "                  STREET  ZIPCODE       PHONE CUISINE DESCRIPTION  \\\n",
       "0       WEST   42 STREET  10036.0  6469191465                 NaN   \n",
       "1          ROOSEVELT AVE  11368.0  7189166374                 NaN   \n",
       "2           MERRICK BLVD  11413.0  9178850048                 NaN   \n",
       "3           UNION STREET  11354.0  2538807717                 NaN   \n",
       "4            PARK AVENUE  10017.0  7043286780                 NaN   \n",
       "...                  ...      ...         ...                 ...   \n",
       "290017     CHURCH AVENUE  11236.0  7184985574          Hamburgers   \n",
       "290018          BROADWAY  10003.0  3477811121          Coffee/Tea   \n",
       "290019   ELDRIDGE STREET  10002.0  2122260133             Chinese   \n",
       "290020  WEST   86 STREET  10024.0  2126522238            American   \n",
       "290021          BROADWAY  11103.0  7182556310              Indian   \n",
       "\n",
       "       INSPECTION DATE                                           ACTION  ...  \\\n",
       "0           01-01-1900                                              NaN  ...   \n",
       "1           01-01-1900                                              NaN  ...   \n",
       "2           01-01-1900                                              NaN  ...   \n",
       "3           01-01-1900                                              NaN  ...   \n",
       "4           01-01-1900                                              NaN  ...   \n",
       "...                ...                                              ...  ...   \n",
       "290017      06/17/2022  Violations were cited in the following area(s).  ...   \n",
       "290018      02-10-2025  Violations were cited in the following area(s).  ...   \n",
       "290019      07/13/2022  Violations were cited in the following area(s).  ...   \n",
       "290020      11/14/2022  Violations were cited in the following area(s).  ...   \n",
       "290021      08/16/2022  Violations were cited in the following area(s).  ...   \n",
       "\n",
       "                                          INSPECTION TYPE   Latitude  \\\n",
       "0                                                     NaN  40.754068   \n",
       "1                                                     NaN  40.750845   \n",
       "2                                                     NaN  40.679915   \n",
       "3                                                     NaN  40.763482   \n",
       "4                                                     NaN  40.755634   \n",
       "...                                                   ...        ...   \n",
       "290017      Pre-permit (Operational) / Initial Inspection  40.652872   \n",
       "290018      Pre-permit (Operational) / Initial Inspection  40.729306   \n",
       "290019              Cycle Inspection / Initial Inspection  40.714660   \n",
       "290020  Administrative Miscellaneous / Initial Inspection  40.788484   \n",
       "290021              Cycle Inspection / Initial Inspection  40.757393   \n",
       "\n",
       "        Longitude  Community Board Council District Census Tract        BIN  \\\n",
       "0      -73.982321            105.0              4.0       8400.0  1085593.0   \n",
       "1      -73.858280            404.0             21.0      40100.0  4307718.0   \n",
       "2      -73.752087            413.0             31.0      35800.0  4279942.0   \n",
       "3      -73.828056            407.0             20.0      86900.0  4112354.0   \n",
       "4      -73.975109            105.0              4.0       9400.0  1035421.0   \n",
       "...           ...              ...              ...          ...        ...   \n",
       "290017 -73.919806            317.0             42.0      88800.0  3103358.0   \n",
       "290018 -73.993502            102.0              2.0       5700.0  1088447.0   \n",
       "290019 -73.993770            103.0              1.0       1600.0  1003772.0   \n",
       "290020 -73.976942            107.0              6.0      17100.0  1081052.0   \n",
       "290021 -73.915669            401.0             26.0      15900.0  4012369.0   \n",
       "\n",
       "                 BBL   NTA  Location Point1  \n",
       "0       1.012570e+09  MN17              NaN  \n",
       "1       4.019960e+09  QN26              NaN  \n",
       "2       4.130110e+09  QN66              NaN  \n",
       "3       4.049770e+09  QN22              NaN  \n",
       "4       1.012830e+09  MN17              NaN  \n",
       "...              ...   ...              ...  \n",
       "290017  3.047110e+09  BK96              NaN  \n",
       "290018  1.005470e+09  MN23              NaN  \n",
       "290019  1.002920e+09  MN27              NaN  \n",
       "290020  1.012330e+09  MN12              NaN  \n",
       "290021  4.007070e+09  QN70              NaN  \n",
       "\n",
       "[290022 rows x 27 columns]"
      ]
     },
     "execution_count": 18,
     "metadata": {},
     "output_type": "execute_result"
    }
   ],
   "source": [
    "nyc = pd.read_csv(r\"C:\\Users\\WELCOME\\Downloads\\NYC_Restaurant.csv\")\n",
    "nyc"
   ]
  },
  {
   "cell_type": "markdown",
   "id": "69de5aa9-8f75-4aba-ae12-6d9ee12f48c1",
   "metadata": {},
   "source": [
    "### Data Understanding\n"
   ]
  },
  {
   "cell_type": "code",
   "execution_count": 19,
   "id": "23de8ac5-6b7b-47b6-81a9-6b14d052ad3f",
   "metadata": {},
   "outputs": [
    {
     "data": {
      "text/plain": [
       "array([nan])"
      ]
     },
     "execution_count": 19,
     "metadata": {},
     "output_type": "execute_result"
    }
   ],
   "source": [
    "nyc['Location Point1'].unique()"
   ]
  },
  {
   "cell_type": "code",
   "execution_count": 20,
   "id": "3ae7f74d-663d-48a3-be6e-8fadf13ea416",
   "metadata": {},
   "outputs": [
    {
     "data": {
      "text/plain": [
       "array(['Not Applicable', 'Critical', 'Not Critical'], dtype=object)"
      ]
     },
     "execution_count": 20,
     "metadata": {},
     "output_type": "execute_result"
    }
   ],
   "source": [
    "nyc['CRITICAL FLAG'].unique()"
   ]
  },
  {
   "cell_type": "code",
   "execution_count": 21,
   "id": "9ad1c863-bed4-4a05-bfb0-990cc8dbaac0",
   "metadata": {},
   "outputs": [
    {
     "data": {
      "text/plain": [
       "array([nan, 'A', 'P', 'Z', 'C', 'N', 'B'], dtype=object)"
      ]
     },
     "execution_count": 21,
     "metadata": {},
     "output_type": "execute_result"
    }
   ],
   "source": [
    "nyc['GRADE'].unique()"
   ]
  },
  {
   "cell_type": "code",
   "execution_count": 22,
   "id": "da943644-9034-4d1c-8b0d-0d4f0f54bb28",
   "metadata": {},
   "outputs": [
    {
     "data": {
      "text/plain": [
       "(290022, 27)"
      ]
     },
     "execution_count": 22,
     "metadata": {},
     "output_type": "execute_result"
    }
   ],
   "source": [
    "nyc.shape"
   ]
  },
  {
   "cell_type": "code",
   "execution_count": 23,
   "id": "187916a0-fdba-42f2-80b9-52c0464247c6",
   "metadata": {},
   "outputs": [
    {
     "data": {
      "text/plain": [
       "Index(['CAMIS', 'DBA', 'BORO', 'BUILDING', 'STREET', 'ZIPCODE', 'PHONE',\n",
       "       'CUISINE DESCRIPTION', 'INSPECTION DATE', 'ACTION', 'VIOLATION CODE',\n",
       "       'VIOLATION DESCRIPTION', 'CRITICAL FLAG', 'SCORE', 'GRADE',\n",
       "       'GRADE DATE', 'RECORD DATE', 'INSPECTION TYPE', 'Latitude', 'Longitude',\n",
       "       'Community Board', 'Council District', 'Census Tract', 'BIN', 'BBL',\n",
       "       'NTA', 'Location Point1'],\n",
       "      dtype='object')"
      ]
     },
     "execution_count": 23,
     "metadata": {},
     "output_type": "execute_result"
    }
   ],
   "source": [
    "nyc.columns"
   ]
  },
  {
   "cell_type": "markdown",
   "id": "cf32ff9f-1ace-4844-b99e-53283216b390",
   "metadata": {},
   "source": [
    "#### Feature Description\n",
    "- CAMIS – A unique ID number for each restaurant.\n",
    "- DBA – The restaurant’s name.\n",
    "- BORO – The part of the city (borough) it’s in.\n",
    "- BUILDING – The building number of the restaurant.\n",
    "- STREET – The street name of the restaurant.\n",
    "- ZIPCODE – The area’s postal code.\n",
    "- PHONE – The restaurant’s phone number.\n",
    "- CUISINE DESCRIPTION – The type of food the restaurant serves.\n",
    "- INSPECTION DATE – The date of the health inspection.\n",
    "- ACTION – What happened after the inspection.\n",
    "- VIOLATION CODE – The code for the rule that was broken.\n",
    "- VIOLATION DESCRIPTION – A short note about what was wrong.\n",
    "- CRITICAL FLAG – Shows if the problem was serious or not.\n",
    "- SCORE – The inspection score given to the restaurant.\n",
    "- GRADE – The letter grade (A, B, C) based on the score.\n",
    "- GRADE DATE – The date the grade was given.\n",
    "- RECORD DATE – The date this information was recorded.\n",
    "- INSPECTION TYPE – What kind of inspection it was (first, follow-up, etc.).\n",
    "- Latitude – The north–south location on the map.\n",
    "- Longitude – The east–west location on the map.\n",
    "- Community Board – The local community area number.\n",
    "- Council District – The city council area number.\n",
    "- Census Tract – The small area used for population data.\n",
    "- BIN – A city number for the building.\n",
    "- BBL – A property ID made of borough, block, and lot numbers.\n",
    "- NTA – The neighborhood area name or code.\n",
    "- Location Point1 – The map point combining latitude and longitude."
   ]
  },
  {
   "cell_type": "code",
   "execution_count": 24,
   "id": "a84f460d-2dce-4322-9e43-f1d2124f7072",
   "metadata": {},
   "outputs": [
    {
     "name": "stdout",
     "output_type": "stream",
     "text": [
      "<class 'pandas.core.frame.DataFrame'>\n",
      "RangeIndex: 290022 entries, 0 to 290021\n",
      "Data columns (total 27 columns):\n",
      " #   Column                 Non-Null Count   Dtype  \n",
      "---  ------                 --------------   -----  \n",
      " 0   CAMIS                  290022 non-null  int64  \n",
      " 1   DBA                    290015 non-null  object \n",
      " 2   BORO                   290022 non-null  object \n",
      " 3   BUILDING               289516 non-null  object \n",
      " 4   STREET                 290021 non-null  object \n",
      " 5   ZIPCODE                287205 non-null  float64\n",
      " 6   PHONE                  290016 non-null  object \n",
      " 7   CUISINE DESCRIPTION    286337 non-null  object \n",
      " 8   INSPECTION DATE        290022 non-null  object \n",
      " 9   ACTION                 286337 non-null  object \n",
      " 10  VIOLATION CODE         284189 non-null  object \n",
      " 11  VIOLATION DESCRIPTION  284189 non-null  object \n",
      " 12  CRITICAL FLAG          290022 non-null  object \n",
      " 13  SCORE                  274080 non-null  float64\n",
      " 14  GRADE                  141303 non-null  object \n",
      " 15  GRADE DATE             133193 non-null  object \n",
      " 16  RECORD DATE            290022 non-null  object \n",
      " 17  INSPECTION TYPE        286337 non-null  object \n",
      " 18  Latitude               289611 non-null  float64\n",
      " 19  Longitude              289611 non-null  float64\n",
      " 20  Community Board        286401 non-null  float64\n",
      " 21  Council District       286402 non-null  float64\n",
      " 22  Census Tract           286402 non-null  float64\n",
      " 23  BIN                    285008 non-null  float64\n",
      " 24  BBL                    289217 non-null  float64\n",
      " 25  NTA                    286401 non-null  object \n",
      " 26  Location Point1        0 non-null       float64\n",
      "dtypes: float64(10), int64(1), object(16)\n",
      "memory usage: 59.7+ MB\n"
     ]
    }
   ],
   "source": [
    "nyc.info()"
   ]
  },
  {
   "cell_type": "code",
   "execution_count": 25,
   "id": "9846b418-0c0b-413a-829e-e8313eab54d7",
   "metadata": {},
   "outputs": [
    {
     "data": {
      "text/html": [
       "<div>\n",
       "<style scoped>\n",
       "    .dataframe tbody tr th:only-of-type {\n",
       "        vertical-align: middle;\n",
       "    }\n",
       "\n",
       "    .dataframe tbody tr th {\n",
       "        vertical-align: top;\n",
       "    }\n",
       "\n",
       "    .dataframe thead th {\n",
       "        text-align: right;\n",
       "    }\n",
       "</style>\n",
       "<table border=\"1\" class=\"dataframe\">\n",
       "  <thead>\n",
       "    <tr style=\"text-align: right;\">\n",
       "      <th></th>\n",
       "      <th>CAMIS</th>\n",
       "      <th>DBA</th>\n",
       "      <th>BORO</th>\n",
       "      <th>BUILDING</th>\n",
       "      <th>STREET</th>\n",
       "      <th>ZIPCODE</th>\n",
       "      <th>PHONE</th>\n",
       "      <th>CUISINE DESCRIPTION</th>\n",
       "      <th>INSPECTION DATE</th>\n",
       "      <th>ACTION</th>\n",
       "      <th>...</th>\n",
       "      <th>INSPECTION TYPE</th>\n",
       "      <th>Latitude</th>\n",
       "      <th>Longitude</th>\n",
       "      <th>Community Board</th>\n",
       "      <th>Council District</th>\n",
       "      <th>Census Tract</th>\n",
       "      <th>BIN</th>\n",
       "      <th>BBL</th>\n",
       "      <th>NTA</th>\n",
       "      <th>Location Point1</th>\n",
       "    </tr>\n",
       "  </thead>\n",
       "  <tbody>\n",
       "    <tr>\n",
       "      <th>0</th>\n",
       "      <td>50114537</td>\n",
       "      <td>MAMA'S CUPBOARD</td>\n",
       "      <td>Manhattan</td>\n",
       "      <td>42</td>\n",
       "      <td>WEST   42 STREET</td>\n",
       "      <td>10036.0</td>\n",
       "      <td>6469191465</td>\n",
       "      <td>NaN</td>\n",
       "      <td>01-01-1900</td>\n",
       "      <td>NaN</td>\n",
       "      <td>...</td>\n",
       "      <td>NaN</td>\n",
       "      <td>40.754068</td>\n",
       "      <td>-73.982321</td>\n",
       "      <td>105.0</td>\n",
       "      <td>4.0</td>\n",
       "      <td>8400.0</td>\n",
       "      <td>1085593.0</td>\n",
       "      <td>1.012570e+09</td>\n",
       "      <td>MN17</td>\n",
       "      <td>NaN</td>\n",
       "    </tr>\n",
       "    <tr>\n",
       "      <th>1</th>\n",
       "      <td>50164148</td>\n",
       "      <td>TIENDA CHICOJ</td>\n",
       "      <td>Queens</td>\n",
       "      <td>10840</td>\n",
       "      <td>ROOSEVELT AVE</td>\n",
       "      <td>11368.0</td>\n",
       "      <td>7189166374</td>\n",
       "      <td>NaN</td>\n",
       "      <td>01-01-1900</td>\n",
       "      <td>NaN</td>\n",
       "      <td>...</td>\n",
       "      <td>NaN</td>\n",
       "      <td>40.750845</td>\n",
       "      <td>-73.858280</td>\n",
       "      <td>404.0</td>\n",
       "      <td>21.0</td>\n",
       "      <td>40100.0</td>\n",
       "      <td>4307718.0</td>\n",
       "      <td>4.019960e+09</td>\n",
       "      <td>QN26</td>\n",
       "      <td>NaN</td>\n",
       "    </tr>\n",
       "    <tr>\n",
       "      <th>2</th>\n",
       "      <td>50169870</td>\n",
       "      <td>TEX'S CHICKEN &amp; BURGERS</td>\n",
       "      <td>Queens</td>\n",
       "      <td>21712</td>\n",
       "      <td>MERRICK BLVD</td>\n",
       "      <td>11413.0</td>\n",
       "      <td>9178850048</td>\n",
       "      <td>NaN</td>\n",
       "      <td>01-01-1900</td>\n",
       "      <td>NaN</td>\n",
       "      <td>...</td>\n",
       "      <td>NaN</td>\n",
       "      <td>40.679915</td>\n",
       "      <td>-73.752087</td>\n",
       "      <td>413.0</td>\n",
       "      <td>31.0</td>\n",
       "      <td>35800.0</td>\n",
       "      <td>4279942.0</td>\n",
       "      <td>4.130110e+09</td>\n",
       "      <td>QN66</td>\n",
       "      <td>NaN</td>\n",
       "    </tr>\n",
       "    <tr>\n",
       "      <th>3</th>\n",
       "      <td>50132087</td>\n",
       "      <td>FANTASTIC BEASTS</td>\n",
       "      <td>Queens</td>\n",
       "      <td>36-10</td>\n",
       "      <td>UNION STREET</td>\n",
       "      <td>11354.0</td>\n",
       "      <td>2538807717</td>\n",
       "      <td>NaN</td>\n",
       "      <td>01-01-1900</td>\n",
       "      <td>NaN</td>\n",
       "      <td>...</td>\n",
       "      <td>NaN</td>\n",
       "      <td>40.763482</td>\n",
       "      <td>-73.828056</td>\n",
       "      <td>407.0</td>\n",
       "      <td>20.0</td>\n",
       "      <td>86900.0</td>\n",
       "      <td>4112354.0</td>\n",
       "      <td>4.049770e+09</td>\n",
       "      <td>QN22</td>\n",
       "      <td>NaN</td>\n",
       "    </tr>\n",
       "    <tr>\n",
       "      <th>4</th>\n",
       "      <td>50172040</td>\n",
       "      <td>BROAD STREET DELI</td>\n",
       "      <td>Manhattan</td>\n",
       "      <td>270</td>\n",
       "      <td>PARK AVENUE</td>\n",
       "      <td>10017.0</td>\n",
       "      <td>7043286780</td>\n",
       "      <td>NaN</td>\n",
       "      <td>01-01-1900</td>\n",
       "      <td>NaN</td>\n",
       "      <td>...</td>\n",
       "      <td>NaN</td>\n",
       "      <td>40.755634</td>\n",
       "      <td>-73.975109</td>\n",
       "      <td>105.0</td>\n",
       "      <td>4.0</td>\n",
       "      <td>9400.0</td>\n",
       "      <td>1035421.0</td>\n",
       "      <td>1.012830e+09</td>\n",
       "      <td>MN17</td>\n",
       "      <td>NaN</td>\n",
       "    </tr>\n",
       "  </tbody>\n",
       "</table>\n",
       "<p>5 rows × 27 columns</p>\n",
       "</div>"
      ],
      "text/plain": [
       "      CAMIS                      DBA       BORO BUILDING            STREET  \\\n",
       "0  50114537          MAMA'S CUPBOARD  Manhattan       42  WEST   42 STREET   \n",
       "1  50164148            TIENDA CHICOJ     Queens    10840     ROOSEVELT AVE   \n",
       "2  50169870  TEX'S CHICKEN & BURGERS     Queens    21712      MERRICK BLVD   \n",
       "3  50132087         FANTASTIC BEASTS     Queens    36-10      UNION STREET   \n",
       "4  50172040        BROAD STREET DELI  Manhattan      270       PARK AVENUE   \n",
       "\n",
       "   ZIPCODE       PHONE CUISINE DESCRIPTION INSPECTION DATE ACTION  ...  \\\n",
       "0  10036.0  6469191465                 NaN      01-01-1900    NaN  ...   \n",
       "1  11368.0  7189166374                 NaN      01-01-1900    NaN  ...   \n",
       "2  11413.0  9178850048                 NaN      01-01-1900    NaN  ...   \n",
       "3  11354.0  2538807717                 NaN      01-01-1900    NaN  ...   \n",
       "4  10017.0  7043286780                 NaN      01-01-1900    NaN  ...   \n",
       "\n",
       "  INSPECTION TYPE   Latitude  Longitude  Community Board Council District  \\\n",
       "0             NaN  40.754068 -73.982321            105.0              4.0   \n",
       "1             NaN  40.750845 -73.858280            404.0             21.0   \n",
       "2             NaN  40.679915 -73.752087            413.0             31.0   \n",
       "3             NaN  40.763482 -73.828056            407.0             20.0   \n",
       "4             NaN  40.755634 -73.975109            105.0              4.0   \n",
       "\n",
       "  Census Tract        BIN           BBL   NTA  Location Point1  \n",
       "0       8400.0  1085593.0  1.012570e+09  MN17              NaN  \n",
       "1      40100.0  4307718.0  4.019960e+09  QN26              NaN  \n",
       "2      35800.0  4279942.0  4.130110e+09  QN66              NaN  \n",
       "3      86900.0  4112354.0  4.049770e+09  QN22              NaN  \n",
       "4       9400.0  1035421.0  1.012830e+09  MN17              NaN  \n",
       "\n",
       "[5 rows x 27 columns]"
      ]
     },
     "execution_count": 25,
     "metadata": {},
     "output_type": "execute_result"
    }
   ],
   "source": [
    "nyc.head()"
   ]
  },
  {
   "cell_type": "code",
   "execution_count": 26,
   "id": "f1e86db2-813a-4d9b-9b2d-fd10334a2959",
   "metadata": {},
   "outputs": [
    {
     "data": {
      "text/html": [
       "<div>\n",
       "<style scoped>\n",
       "    .dataframe tbody tr th:only-of-type {\n",
       "        vertical-align: middle;\n",
       "    }\n",
       "\n",
       "    .dataframe tbody tr th {\n",
       "        vertical-align: top;\n",
       "    }\n",
       "\n",
       "    .dataframe thead th {\n",
       "        text-align: right;\n",
       "    }\n",
       "</style>\n",
       "<table border=\"1\" class=\"dataframe\">\n",
       "  <thead>\n",
       "    <tr style=\"text-align: right;\">\n",
       "      <th></th>\n",
       "      <th>CAMIS</th>\n",
       "      <th>DBA</th>\n",
       "      <th>BORO</th>\n",
       "      <th>BUILDING</th>\n",
       "      <th>STREET</th>\n",
       "      <th>ZIPCODE</th>\n",
       "      <th>PHONE</th>\n",
       "      <th>CUISINE DESCRIPTION</th>\n",
       "      <th>INSPECTION DATE</th>\n",
       "      <th>ACTION</th>\n",
       "      <th>...</th>\n",
       "      <th>INSPECTION TYPE</th>\n",
       "      <th>Latitude</th>\n",
       "      <th>Longitude</th>\n",
       "      <th>Community Board</th>\n",
       "      <th>Council District</th>\n",
       "      <th>Census Tract</th>\n",
       "      <th>BIN</th>\n",
       "      <th>BBL</th>\n",
       "      <th>NTA</th>\n",
       "      <th>Location Point1</th>\n",
       "    </tr>\n",
       "  </thead>\n",
       "  <tbody>\n",
       "    <tr>\n",
       "      <th>290017</th>\n",
       "      <td>50121962</td>\n",
       "      <td>BURGER KING</td>\n",
       "      <td>Brooklyn</td>\n",
       "      <td>9006</td>\n",
       "      <td>CHURCH AVENUE</td>\n",
       "      <td>11236.0</td>\n",
       "      <td>7184985574</td>\n",
       "      <td>Hamburgers</td>\n",
       "      <td>06/17/2022</td>\n",
       "      <td>Violations were cited in the following area(s).</td>\n",
       "      <td>...</td>\n",
       "      <td>Pre-permit (Operational) / Initial Inspection</td>\n",
       "      <td>40.652872</td>\n",
       "      <td>-73.919806</td>\n",
       "      <td>317.0</td>\n",
       "      <td>42.0</td>\n",
       "      <td>88800.0</td>\n",
       "      <td>3103358.0</td>\n",
       "      <td>3.047110e+09</td>\n",
       "      <td>BK96</td>\n",
       "      <td>NaN</td>\n",
       "    </tr>\n",
       "    <tr>\n",
       "      <th>290018</th>\n",
       "      <td>50150281</td>\n",
       "      <td>MADMAN ESPRESSO</td>\n",
       "      <td>Manhattan</td>\n",
       "      <td>721</td>\n",
       "      <td>BROADWAY</td>\n",
       "      <td>10003.0</td>\n",
       "      <td>3477811121</td>\n",
       "      <td>Coffee/Tea</td>\n",
       "      <td>02-10-2025</td>\n",
       "      <td>Violations were cited in the following area(s).</td>\n",
       "      <td>...</td>\n",
       "      <td>Pre-permit (Operational) / Initial Inspection</td>\n",
       "      <td>40.729306</td>\n",
       "      <td>-73.993502</td>\n",
       "      <td>102.0</td>\n",
       "      <td>2.0</td>\n",
       "      <td>5700.0</td>\n",
       "      <td>1088447.0</td>\n",
       "      <td>1.005470e+09</td>\n",
       "      <td>MN23</td>\n",
       "      <td>NaN</td>\n",
       "    </tr>\n",
       "    <tr>\n",
       "      <th>290019</th>\n",
       "      <td>40949905</td>\n",
       "      <td>KA WAH BAKERY</td>\n",
       "      <td>Manhattan</td>\n",
       "      <td>9</td>\n",
       "      <td>ELDRIDGE STREET</td>\n",
       "      <td>10002.0</td>\n",
       "      <td>2122260133</td>\n",
       "      <td>Chinese</td>\n",
       "      <td>07/13/2022</td>\n",
       "      <td>Violations were cited in the following area(s).</td>\n",
       "      <td>...</td>\n",
       "      <td>Cycle Inspection / Initial Inspection</td>\n",
       "      <td>40.714660</td>\n",
       "      <td>-73.993770</td>\n",
       "      <td>103.0</td>\n",
       "      <td>1.0</td>\n",
       "      <td>1600.0</td>\n",
       "      <td>1003772.0</td>\n",
       "      <td>1.002920e+09</td>\n",
       "      <td>MN27</td>\n",
       "      <td>NaN</td>\n",
       "    </tr>\n",
       "    <tr>\n",
       "      <th>290020</th>\n",
       "      <td>50121766</td>\n",
       "      <td>CROSSBAR / SOCCER POST UPPER WESTSIDE</td>\n",
       "      <td>Manhattan</td>\n",
       "      <td>250</td>\n",
       "      <td>WEST   86 STREET</td>\n",
       "      <td>10024.0</td>\n",
       "      <td>2126522238</td>\n",
       "      <td>American</td>\n",
       "      <td>11/14/2022</td>\n",
       "      <td>Violations were cited in the following area(s).</td>\n",
       "      <td>...</td>\n",
       "      <td>Administrative Miscellaneous / Initial Inspection</td>\n",
       "      <td>40.788484</td>\n",
       "      <td>-73.976942</td>\n",
       "      <td>107.0</td>\n",
       "      <td>6.0</td>\n",
       "      <td>17100.0</td>\n",
       "      <td>1081052.0</td>\n",
       "      <td>1.012330e+09</td>\n",
       "      <td>MN12</td>\n",
       "      <td>NaN</td>\n",
       "    </tr>\n",
       "    <tr>\n",
       "      <th>290021</th>\n",
       "      <td>41703865</td>\n",
       "      <td>SAFFRON</td>\n",
       "      <td>Queens</td>\n",
       "      <td>4404</td>\n",
       "      <td>BROADWAY</td>\n",
       "      <td>11103.0</td>\n",
       "      <td>7182556310</td>\n",
       "      <td>Indian</td>\n",
       "      <td>08/16/2022</td>\n",
       "      <td>Violations were cited in the following area(s).</td>\n",
       "      <td>...</td>\n",
       "      <td>Cycle Inspection / Initial Inspection</td>\n",
       "      <td>40.757393</td>\n",
       "      <td>-73.915669</td>\n",
       "      <td>401.0</td>\n",
       "      <td>26.0</td>\n",
       "      <td>15900.0</td>\n",
       "      <td>4012369.0</td>\n",
       "      <td>4.007070e+09</td>\n",
       "      <td>QN70</td>\n",
       "      <td>NaN</td>\n",
       "    </tr>\n",
       "  </tbody>\n",
       "</table>\n",
       "<p>5 rows × 27 columns</p>\n",
       "</div>"
      ],
      "text/plain": [
       "           CAMIS                                    DBA       BORO BUILDING  \\\n",
       "290017  50121962                            BURGER KING   Brooklyn     9006   \n",
       "290018  50150281                        MADMAN ESPRESSO  Manhattan      721   \n",
       "290019  40949905                          KA WAH BAKERY  Manhattan        9   \n",
       "290020  50121766  CROSSBAR / SOCCER POST UPPER WESTSIDE  Manhattan      250   \n",
       "290021  41703865                                SAFFRON     Queens     4404   \n",
       "\n",
       "                  STREET  ZIPCODE       PHONE CUISINE DESCRIPTION  \\\n",
       "290017     CHURCH AVENUE  11236.0  7184985574          Hamburgers   \n",
       "290018          BROADWAY  10003.0  3477811121          Coffee/Tea   \n",
       "290019   ELDRIDGE STREET  10002.0  2122260133             Chinese   \n",
       "290020  WEST   86 STREET  10024.0  2126522238            American   \n",
       "290021          BROADWAY  11103.0  7182556310              Indian   \n",
       "\n",
       "       INSPECTION DATE                                           ACTION  ...  \\\n",
       "290017      06/17/2022  Violations were cited in the following area(s).  ...   \n",
       "290018      02-10-2025  Violations were cited in the following area(s).  ...   \n",
       "290019      07/13/2022  Violations were cited in the following area(s).  ...   \n",
       "290020      11/14/2022  Violations were cited in the following area(s).  ...   \n",
       "290021      08/16/2022  Violations were cited in the following area(s).  ...   \n",
       "\n",
       "                                          INSPECTION TYPE   Latitude  \\\n",
       "290017      Pre-permit (Operational) / Initial Inspection  40.652872   \n",
       "290018      Pre-permit (Operational) / Initial Inspection  40.729306   \n",
       "290019              Cycle Inspection / Initial Inspection  40.714660   \n",
       "290020  Administrative Miscellaneous / Initial Inspection  40.788484   \n",
       "290021              Cycle Inspection / Initial Inspection  40.757393   \n",
       "\n",
       "        Longitude  Community Board Council District Census Tract        BIN  \\\n",
       "290017 -73.919806            317.0             42.0      88800.0  3103358.0   \n",
       "290018 -73.993502            102.0              2.0       5700.0  1088447.0   \n",
       "290019 -73.993770            103.0              1.0       1600.0  1003772.0   \n",
       "290020 -73.976942            107.0              6.0      17100.0  1081052.0   \n",
       "290021 -73.915669            401.0             26.0      15900.0  4012369.0   \n",
       "\n",
       "                 BBL   NTA  Location Point1  \n",
       "290017  3.047110e+09  BK96              NaN  \n",
       "290018  1.005470e+09  MN23              NaN  \n",
       "290019  1.002920e+09  MN27              NaN  \n",
       "290020  1.012330e+09  MN12              NaN  \n",
       "290021  4.007070e+09  QN70              NaN  \n",
       "\n",
       "[5 rows x 27 columns]"
      ]
     },
     "execution_count": 26,
     "metadata": {},
     "output_type": "execute_result"
    }
   ],
   "source": [
    "nyc.tail()"
   ]
  },
  {
   "cell_type": "markdown",
   "id": "075e8da5-f52a-4c8b-bfdc-dc08b4f45466",
   "metadata": {},
   "source": [
    "## Data Cleaning"
   ]
  },
  {
   "cell_type": "code",
   "execution_count": 27,
   "id": "b83a15de-6f4b-49d0-b9fc-52afb61c3ce9",
   "metadata": {},
   "outputs": [],
   "source": [
    "## Dropping duplicates\n",
    "nyc = nyc.drop_duplicates()"
   ]
  },
  {
   "cell_type": "markdown",
   "id": "96f8c1c6-62ad-418c-8ad9-d946a5ac2abf",
   "metadata": {},
   "source": [
    "### Dropping features that are unwanted for analysis."
   ]
  },
  {
   "cell_type": "code",
   "execution_count": 28,
   "id": "be93d81d-fd06-4cb8-a654-5bf120183c39",
   "metadata": {},
   "outputs": [],
   "source": [
    "nyc = nyc.drop(['CAMIS'], axis = 1)\n",
    "nyc = nyc.drop(['DBA'], axis = 1)\n",
    "nyc = nyc.drop(['BUILDING'], axis = 1)\n",
    "nyc = nyc.drop(['STREET'], axis = 1)\n",
    "nyc = nyc.drop(['ZIPCODE'], axis = 1)\n",
    "nyc = nyc.drop(['PHONE'], axis = 1)\n",
    "nyc = nyc.drop(['VIOLATION CODE'], axis = 1)\n",
    "nyc = nyc.drop(['RECORD DATE'], axis = 1)\n",
    "nyc = nyc.drop(['Latitude'], axis = 1)\n",
    "nyc = nyc.drop(['Longitude'], axis = 1)\n",
    "nyc = nyc.drop(['Community Board'], axis = 1)\n",
    "nyc = nyc.drop(['Council District'], axis = 1)\n",
    "nyc = nyc.drop(['Census Tract'], axis = 1)\n",
    "nyc = nyc.drop(['BIN'], axis = 1)\n",
    "nyc = nyc.drop(['BBL'], axis = 1)\n",
    "nyc = nyc.drop(['NTA'], axis = 1)\n",
    "nyc = nyc.drop(\"Location Point1\", axis = 1)"
   ]
  },
  {
   "cell_type": "markdown",
   "id": "04579c94-c839-49cd-a101-21f9a3d87e70",
   "metadata": {},
   "source": [
    "### After Dropping unwanted features"
   ]
  },
  {
   "cell_type": "code",
   "execution_count": 29,
   "id": "932e3cfe-1293-4368-a50d-dde3f327bba2",
   "metadata": {},
   "outputs": [
    {
     "data": {
      "text/plain": [
       "Index(['BORO', 'CUISINE DESCRIPTION', 'INSPECTION DATE', 'ACTION',\n",
       "       'VIOLATION DESCRIPTION', 'CRITICAL FLAG', 'SCORE', 'GRADE',\n",
       "       'GRADE DATE', 'INSPECTION TYPE'],\n",
       "      dtype='object')"
      ]
     },
     "execution_count": 29,
     "metadata": {},
     "output_type": "execute_result"
    }
   ],
   "source": [
    "nyc.columns"
   ]
  },
  {
   "cell_type": "code",
   "execution_count": 30,
   "id": "7edc03f4-d9ba-49ed-bc4e-928579633663",
   "metadata": {},
   "outputs": [
    {
     "data": {
      "text/plain": [
       "(290016, 10)"
      ]
     },
     "execution_count": 30,
     "metadata": {},
     "output_type": "execute_result"
    }
   ],
   "source": [
    "nyc.shape"
   ]
  },
  {
   "cell_type": "markdown",
   "id": "d7471592-943f-4f70-818a-4d912cae0e69",
   "metadata": {},
   "source": [
    "### Checking datatypes of features"
   ]
  },
  {
   "cell_type": "code",
   "execution_count": 31,
   "id": "9ea55606-2ac9-4704-943a-7d9033c9a44b",
   "metadata": {},
   "outputs": [
    {
     "data": {
      "text/plain": [
       "BORO                      object\n",
       "CUISINE DESCRIPTION       object\n",
       "INSPECTION DATE           object\n",
       "ACTION                    object\n",
       "VIOLATION DESCRIPTION     object\n",
       "CRITICAL FLAG             object\n",
       "SCORE                    float64\n",
       "GRADE                     object\n",
       "GRADE DATE                object\n",
       "INSPECTION TYPE           object\n",
       "dtype: object"
      ]
     },
     "execution_count": 31,
     "metadata": {},
     "output_type": "execute_result"
    }
   ],
   "source": [
    "nyc.dtypes"
   ]
  },
  {
   "cell_type": "markdown",
   "id": "8c756c3f-d067-4183-b918-29a511ce45f0",
   "metadata": {},
   "source": [
    "### Converting appropriate datatypes"
   ]
  },
  {
   "cell_type": "code",
   "execution_count": 32,
   "id": "3b382f61-58b1-4b17-b4e6-1a1a88f4c606",
   "metadata": {},
   "outputs": [],
   "source": [
    "nyc['SCORE'] = pd.to_numeric(nyc['SCORE'], errors='coerce')\n",
    "nyc['INSPECTION DATE'] = pd.to_datetime(nyc['INSPECTION DATE'], errors='coerce')\n",
    "nyc['GRADE DATE'] = pd.to_datetime(nyc['GRADE DATE'], errors='coerce')"
   ]
  },
  {
   "cell_type": "markdown",
   "id": "68bf06db-f5cd-4a98-8c6f-c936305a62b7",
   "metadata": {},
   "source": [
    "### Checking null values in the features"
   ]
  },
  {
   "cell_type": "code",
   "execution_count": 33,
   "id": "3f05f0ae-a38a-4d94-9c0d-5070909a397c",
   "metadata": {},
   "outputs": [
    {
     "data": {
      "text/plain": [
       "BORO                          0\n",
       "CUISINE DESCRIPTION        3685\n",
       "INSPECTION DATE          174410\n",
       "ACTION                     3685\n",
       "VIOLATION DESCRIPTION      5833\n",
       "CRITICAL FLAG                 0\n",
       "SCORE                     15942\n",
       "GRADE                    148713\n",
       "GRADE DATE               239314\n",
       "INSPECTION TYPE            3685\n",
       "dtype: int64"
      ]
     },
     "execution_count": 33,
     "metadata": {},
     "output_type": "execute_result"
    }
   ],
   "source": [
    "nyc.isnull().sum()"
   ]
  },
  {
   "cell_type": "markdown",
   "id": "8a5a08aa-75a0-4ae8-94a8-9e0d8903f871",
   "metadata": {},
   "source": [
    "### Filling Categorical features with 'Not Available'"
   ]
  },
  {
   "cell_type": "code",
   "execution_count": 34,
   "id": "7f779f8a-7c6a-499c-9ba8-5ccde49257f0",
   "metadata": {},
   "outputs": [],
   "source": [
    "cat_cols = ['CUISINE DESCRIPTION','VIOLATION DESCRIPTION','INSPECTION TYPE','ACTION']\n",
    "nyc[cat_cols] = nyc[cat_cols].fillna('Not Available')"
   ]
  },
  {
   "cell_type": "code",
   "execution_count": 35,
   "id": "1741f8a8-6791-42c8-bd3d-e497aa7cbd62",
   "metadata": {},
   "outputs": [],
   "source": [
    "nyc['GRADE'].fillna(nyc['GRADE'].mode()[0], inplace = True)"
   ]
  },
  {
   "cell_type": "markdown",
   "id": "695aaf9e-228f-45cd-ae95-2422ed5acf4f",
   "metadata": {},
   "source": [
    "### Filling Numerical features with mean(Average) value"
   ]
  },
  {
   "cell_type": "code",
   "execution_count": 36,
   "id": "b45388bb-f387-429d-8068-107232ba2da8",
   "metadata": {},
   "outputs": [],
   "source": [
    "nyc['SCORE'] = nyc['SCORE'].fillna(nyc['SCORE'].mean())"
   ]
  },
  {
   "cell_type": "markdown",
   "id": "380ed825-0452-4df5-b222-cfaa58914555",
   "metadata": {},
   "source": [
    "### Filling Date features with default placeholder date (not real inspection data)"
   ]
  },
  {
   "cell_type": "code",
   "execution_count": 37,
   "id": "148f30df-83fb-4d78-8008-18b933952957",
   "metadata": {},
   "outputs": [],
   "source": [
    "nyc['INSPECTION DATE'].fillna(pd.Timestamp('1900-01-01'), inplace=True)\n",
    "nyc['GRADE DATE'].fillna(pd.Timestamp('1900-01-01'), inplace=True)"
   ]
  },
  {
   "cell_type": "code",
   "execution_count": 38,
   "id": "364788b4-1365-49c5-8e3b-57130f72ccc4",
   "metadata": {},
   "outputs": [
    {
     "data": {
      "text/plain": [
       "np.int64(0)"
      ]
     },
     "execution_count": 38,
     "metadata": {},
     "output_type": "execute_result"
    }
   ],
   "source": [
    "nyc.isnull().sum().sum()"
   ]
  },
  {
   "cell_type": "code",
   "execution_count": 39,
   "id": "81cd237d-e279-4996-86c8-d6f96399fa52",
   "metadata": {},
   "outputs": [
    {
     "data": {
      "text/plain": [
       "BORO                             object\n",
       "CUISINE DESCRIPTION              object\n",
       "INSPECTION DATE          datetime64[ns]\n",
       "ACTION                           object\n",
       "VIOLATION DESCRIPTION            object\n",
       "CRITICAL FLAG                    object\n",
       "SCORE                           float64\n",
       "GRADE                            object\n",
       "GRADE DATE               datetime64[ns]\n",
       "INSPECTION TYPE                  object\n",
       "dtype: object"
      ]
     },
     "execution_count": 39,
     "metadata": {},
     "output_type": "execute_result"
    }
   ],
   "source": [
    "nyc.dtypes"
   ]
  },
  {
   "cell_type": "markdown",
   "id": "d13e7000-2a82-4102-a2d3-e596570ae1f4",
   "metadata": {},
   "source": [
    "### Checking Outliers"
   ]
  },
  {
   "cell_type": "code",
   "execution_count": 40,
   "id": "7e3cfbd0-e2e2-49cb-82f4-1a8e02952e83",
   "metadata": {},
   "outputs": [
    {
     "data": {
      "image/png": "[encoded data removed]",
      "text/plain": [
       "<Figure size 600x400 with 1 Axes>"
      ]
     },
     "metadata": {},
     "output_type": "display_data"
    }
   ],
   "source": [
    "plt.figure(figsize=(6,4))\n",
    "sns.boxplot(x=nyc['SCORE'])\n",
    "plt.title(\"Boxplot for (Outlier Detection)\")\n",
    "plt.xlabel(\"Inspection Score\")\n",
    "plt.show()"
   ]
  },
  {
   "cell_type": "markdown",
   "id": "84661fd4-4665-461a-bf55-723d6fc7b318",
   "metadata": {},
   "source": [
    "### Using INTERQUARTILE (IQR) Method to remove outliers."
   ]
  },
  {
   "cell_type": "code",
   "execution_count": 41,
   "id": "7cf72932-d48b-48ce-8121-fb308f64b40d",
   "metadata": {},
   "outputs": [
    {
     "name": "stdout",
     "output_type": "stream",
     "text": [
      "Lower limit: -18.0, Upper limit: 62.0\n",
      "Outliers remaining: 0\n"
     ]
    }
   ],
   "source": [
    "Q1 = nyc['SCORE'].quantile(0.25)\n",
    "Q3 = nyc['SCORE'].quantile(0.75)\n",
    "IQR = Q3 - Q1\n",
    "\n",
    "lower_limit = Q1 - 1.5 * IQR\n",
    "upper_limit = Q3 + 1.5 * IQR\n",
    "median_val = nyc['SCORE'].median()\n",
    "\n",
    "# Replace outliers with median\n",
    "nyc.loc[(nyc['SCORE'] < lower_limit) | (nyc['SCORE'] > upper_limit), 'SCORE'] = median_val\n",
    "print(f\"Lower limit: {lower_limit}, Upper limit: {upper_limit}\")\n",
    "outliers_remaining = nyc[(nyc['SCORE'] < lower_limit) | (nyc['SCORE'] > upper_limit)]\n",
    "print(\"Outliers remaining:\", outliers_remaining.shape[0])"
   ]
  },
  {
   "cell_type": "code",
   "execution_count": 42,
   "id": "9e43d3fd-0fc9-4108-9d66-a0da7108ec04",
   "metadata": {},
   "outputs": [
    {
     "data": {
      "image/png": "[encoded data removed]",
      "text/plain": [
       "<Figure size 600x400 with 1 Axes>"
      ]
     },
     "metadata": {},
     "output_type": "display_data"
    }
   ],
   "source": [
    "plt.figure(figsize=(6,4))\n",
    "sns.boxplot(x=nyc['SCORE'])\n",
    "plt.title(\"Outlier Detection)\")\n",
    "plt.xlabel(\"Inspection Score\")\n",
    "plt.show()"
   ]
  },
  {
   "cell_type": "code",
   "execution_count": 43,
   "id": "05daf2a6-c2dc-4b52-86ad-218ac64155b6",
   "metadata": {},
   "outputs": [
    {
     "name": "stdout",
     "output_type": "stream",
     "text": [
      "Lower limit: -13.5, Upper limit: 54.5\n",
      "Outliers remaining: 0\n"
     ]
    }
   ],
   "source": [
    "Q1 = nyc['SCORE'].quantile(0.25)\n",
    "Q3 = nyc['SCORE'].quantile(0.75)\n",
    "IQR = Q3 - Q1\n",
    "\n",
    "lower_limit = Q1 - 1.5 * IQR\n",
    "upper_limit = Q3 + 1.5 * IQR\n",
    "median_val = nyc['SCORE'].median()\n",
    "\n",
    "# Replace outliers with median\n",
    "nyc.loc[(nyc['SCORE'] < lower_limit) | (nyc['SCORE'] > upper_limit), 'SCORE'] = median_val\n",
    "print(f\"Lower limit: {lower_limit}, Upper limit: {upper_limit}\")\n",
    "outliers_remaining = nyc[(nyc['SCORE'] < lower_limit) | (nyc['SCORE'] > upper_limit)]\n",
    "print(\"Outliers remaining:\", outliers_remaining.shape[0])"
   ]
  },
  {
   "cell_type": "code",
   "execution_count": 44,
   "id": "4fdb3ee8-dc35-4108-9daf-b56a80ba8d83",
   "metadata": {},
   "outputs": [
    {
     "data": {
      "image/png": "[encoded data removed]",
      "text/plain": [
       "<Figure size 600x400 with 1 Axes>"
      ]
     },
     "metadata": {},
     "output_type": "display_data"
    }
   ],
   "source": [
    "plt.figure(figsize=(6,4))\n",
    "sns.boxplot(x=nyc['SCORE'])\n",
    "plt.title(\"Outlier Detection\")\n",
    "plt.xlabel(\"Inspection Score\")\n",
    "plt.show()"
   ]
  },
  {
   "cell_type": "code",
   "execution_count": 45,
   "id": "624db9c6-4d82-42fe-b019-fb4dc8c42ffd",
   "metadata": {},
   "outputs": [
    {
     "name": "stdout",
     "output_type": "stream",
     "text": [
      "Lower limit: -10.5, Upper limit: 49.5\n",
      "Outliers remaining: 0\n"
     ]
    }
   ],
   "source": [
    "Q1 = nyc['SCORE'].quantile(0.25)\n",
    "Q3 = nyc['SCORE'].quantile(0.75)\n",
    "IQR = Q3 - Q1\n",
    "\n",
    "lower_limit = Q1 - 1.5 * IQR\n",
    "upper_limit = Q3 + 1.5 * IQR\n",
    "median_val = nyc['SCORE'].median()\n",
    "\n",
    "# Replace outliers with median\n",
    "nyc.loc[(nyc['SCORE'] < lower_limit) | (nyc['SCORE'] > upper_limit), 'SCORE'] = median_val\n",
    "print(f\"Lower limit: {lower_limit}, Upper limit: {upper_limit}\")\n",
    "outliers_remaining = nyc[(nyc['SCORE'] < lower_limit) | (nyc['SCORE'] > upper_limit)]\n",
    "print(\"Outliers remaining:\", outliers_remaining.shape[0])"
   ]
  },
  {
   "cell_type": "code",
   "execution_count": 46,
   "id": "18dc9af4-26c9-4b99-9d5b-1c77c1910b6b",
   "metadata": {},
   "outputs": [
    {
     "data": {
      "image/png": "[encoded data removed]",
      "text/plain": [
       "<Figure size 600x400 with 1 Axes>"
      ]
     },
     "metadata": {},
     "output_type": "display_data"
    }
   ],
   "source": [
    "plt.figure(figsize=(6,4))\n",
    "sns.boxplot(x=nyc['SCORE'])\n",
    "plt.title(\"After Outlier Treatment\")\n",
    "plt.xlabel(\"Inspection Score\")\n",
    "plt.show()"
   ]
  },
  {
   "cell_type": "markdown",
   "id": "9eb6728c-8d5b-4f4e-b5cd-c2179b831a0f",
   "metadata": {},
   "source": [
    "### Insights\n",
    "- The Boxplot of SCORE contains no outliers.\n",
    "- The majority of 'Inspection Score' are clustered between 10 to 30.\n",
    "- The Median value is around 22."
   ]
  },
  {
   "cell_type": "markdown",
   "id": "2fe2a0d9-55f3-4393-88c9-fd8c91beb575",
   "metadata": {},
   "source": [
    "### Statistical Analysis"
   ]
  },
  {
   "cell_type": "markdown",
   "id": "8a2dc90c-8679-4478-9d94-31a17e787f47",
   "metadata": {},
   "source": [
    "### 1.Independent Sample t-test"
   ]
  },
  {
   "cell_type": "markdown",
   "id": "da83d4f7-2746-438e-b0d2-fddc3563fd5e",
   "metadata": {},
   "source": [
    "#### Comparing SCORE between GRADE A and GRADE B Restaurants\n",
    "- Null Hypothesis Ho : No Significant difference between GRADE A and GRADE B SCORES\n",
    "- Alternate Hypothesis Ha : Significant difference between GRADE A and GRADE B SCORES"
   ]
  },
  {
   "cell_type": "code",
   "execution_count": 47,
   "id": "f2a95a19-59ca-44d1-9628-ac3ea25ec186",
   "metadata": {},
   "outputs": [
    {
     "name": "stdout",
     "output_type": "stream",
     "text": [
      "Independent T-Test\n",
      "T-test statistic: -28.760588603340267\n",
      "P-value: 1.282036296488789e-181\n",
      "Reject H0 : No Significant difference between Grade A and Grade B scores\n"
     ]
    }
   ],
   "source": [
    "from scipy.stats import ttest_ind\n",
    "\n",
    "group_A = nyc[nyc['GRADE'] == 'A']['SCORE']\n",
    "group_B = nyc[nyc['GRADE'] == 'B']['SCORE']\n",
    "\n",
    "t_stat, p_value = ttest_ind(group_A, group_B, nan_policy='omit')\n",
    "\n",
    "print(\"Independent T-Test\")\n",
    "print(\"T-test statistic:\", t_stat)\n",
    "print(\"P-value:\", p_value)\n",
    "\n",
    "alpha = 0.05\n",
    "\n",
    "if p_value < alpha:\n",
    "    print(\"Reject H0 : No Significant difference between Grade A and Grade B scores\")\n",
    "else:\n",
    "    print(\"Failed to reject H0 : Significant difference between Grade A and Grade B scores\")"
   ]
  },
  {
   "cell_type": "markdown",
   "id": "35a8e9fc-e21f-40a4-9782-affdb6e43b36",
   "metadata": {},
   "source": [
    "### Insights :\n",
    "- Here the p_value is 0.0000 which is less than 0.05.\n",
    "- This means that SCORES of GRADE A and GRADE B have significant differences."
   ]
  },
  {
   "cell_type": "markdown",
   "id": "f3ab1c2e-adfc-4848-99cf-cf620163bf8d",
   "metadata": {},
   "source": [
    "### 2.Chi Square Test"
   ]
  },
  {
   "cell_type": "markdown",
   "id": "51093dee-e8dd-4ad7-a431-7c261f9f15a7",
   "metadata": {},
   "source": [
    "#### Taking two categorical Features ACTION and GRADE to check they are independent or not\n",
    "- Null Hypothesis Ho : ACTION and GRADE are independent\n",
    "- Alternate Hypothesis Ha : ACTION and GRADE are dependent"
   ]
  },
  {
   "cell_type": "code",
   "execution_count": 48,
   "id": "11dee594-0ea4-4cf7-bf42-9244c44d46d6",
   "metadata": {},
   "outputs": [
    {
     "name": "stdout",
     "output_type": "stream",
     "text": [
      "Contingency Table:\n",
      " GRADE                                                    A      B      C  \\\n",
      "ACTION                                                                     \n",
      "Establishment Closed by DOHMH. Violations were ...    9746      0     16   \n",
      "Establishment re-closed by DOHMH.                     1325      0      0   \n",
      "Establishment re-opened by DOHMH.                      208      2    394   \n",
      "No violations were recorded at the time of this...    2128      0      0   \n",
      "Not Available                                         3685      0      0   \n",
      "Violations were cited in the following area(s).     227586  17644  11746   \n",
      "\n",
      "GRADE                                                  N    P     Z  \n",
      "ACTION                                                               \n",
      "Establishment Closed by DOHMH. Violations were ...   312    0     0  \n",
      "Establishment re-closed by DOHMH.                      0    0     0  \n",
      "Establishment re-opened by DOHMH.                      5  915   377  \n",
      "No violations were recorded at the time of this...    24    0     0  \n",
      "Not Available                                          0    0     0  \n",
      "Violations were cited in the following area(s).     7771    0  6132  \n",
      "\n",
      "Chi-Square Statistic: 146685.543202469\n",
      "\n",
      "P-value: 0.0\n",
      "\n",
      "Degrees of Freedom: 25\n",
      "\n",
      "Expected Frequencies:\n",
      " [[8.49913857e+03 6.12951713e+02 4.22250993e+02 2.81778550e+02\n",
      "  3.17834533e+01 2.26096719e+02]\n",
      " [1.11786367e+03 8.06195175e+01 5.55372807e+01 3.70614035e+01\n",
      "  4.18037281e+00 2.97377558e+01]\n",
      " [1.60381799e+03 1.15666191e+02 7.96802797e+01 5.31726250e+01\n",
      "  5.99765185e+00 4.26652633e+01]\n",
      " [1.81557933e+03 1.30938265e+02 9.02009268e+01 6.01933135e+01\n",
      "  6.78955644e+00 4.82986042e+01]\n",
      " [3.10892651e+03 2.24213526e+02 1.54456513e+02 1.03072658e+02\n",
      "  1.16261689e+01 8.27046266e+01]\n",
      " [2.28532674e+05 1.64816108e+04 1.13538740e+04 7.57672145e+03\n",
      "  8.54622797e+02 6.07949703e+03]]\n",
      "\n",
      "\n",
      "Reject H0 : ACTION and GRADE are Independent\n"
     ]
    }
   ],
   "source": [
    "from scipy import stats\n",
    "from scipy.stats import chi2_contingency\n",
    "\n",
    "contingency_table = pd.crosstab(nyc['ACTION'], nyc['GRADE'])\n",
    "\n",
    "chi2_stat, p_val, dof, expected = stats.chi2_contingency(contingency_table)\n",
    "\n",
    "print(\"Contingency Table:\\n\", contingency_table)\n",
    "print(\"\\nChi-Square Statistic:\", chi2_stat)\n",
    "print(\"\\nP-value:\", p_val)\n",
    "print(\"\\nDegrees of Freedom:\", dof)\n",
    "print(\"\\nExpected Frequencies:\\n\", expected)\n",
    "print(\"\\n\")\n",
    "\n",
    "alpha = 0.05\n",
    "\n",
    "if p_value < alpha :\n",
    "    print(\"Reject H0 : ACTION and GRADE are Independent\")\n",
    "else:\n",
    "    print(\"Failed to reject H0 : ACTION and GRADE are not Independent\")"
   ]
  },
  {
   "cell_type": "markdown",
   "id": "7f6bec8f-4fb3-4f8f-bb22-e157c26245c5",
   "metadata": {},
   "source": [
    "### Insights:\n",
    "- Here p_value is 0.0 which is less than 0.05.\n",
    "- THis means that ACTION and GRADE are dependent.\n",
    "- Here the Degrees of Freedom is 25.\n",
    "- Which means there are 25 independent values of information available in the data to estimate variability."
   ]
  },
  {
   "cell_type": "markdown",
   "id": "f29a5c9e-f4d9-4c53-8aee-c1b05689ccaf",
   "metadata": {},
   "source": [
    "### Descriptive Analysis"
   ]
  },
  {
   "cell_type": "code",
   "execution_count": 49,
   "id": "284d2d8e-87c9-4428-8f86-acf1d86ae7a8",
   "metadata": {},
   "outputs": [
    {
     "data": {
      "text/plain": [
       "count    290016.000000\n",
       "mean         20.688723\n",
       "std          10.974651\n",
       "min           0.000000\n",
       "25%          12.000000\n",
       "50%          22.000000\n",
       "75%          27.000000\n",
       "max          49.000000\n",
       "Name: SCORE, dtype: float64"
      ]
     },
     "execution_count": 49,
     "metadata": {},
     "output_type": "execute_result"
    }
   ],
   "source": [
    "nyc['SCORE'].describe()"
   ]
  },
  {
   "cell_type": "markdown",
   "id": "a42258bf-809d-4f07-9ed6-df985cb4ab5d",
   "metadata": {},
   "source": [
    "## EXPLORATORY DATA ANALYSIS - EDA"
   ]
  },
  {
   "cell_type": "markdown",
   "id": "00b43553-a37f-44b5-b414-5ffd346000e9",
   "metadata": {},
   "source": [
    "## 1.Univariate Analysis\n",
    "### Histplot for SCORE Distribution to show how restaurant inspection scores varies."
   ]
  },
  {
   "cell_type": "code",
   "execution_count": 50,
   "id": "55740a00-038b-44f5-a7eb-a31fe7652f17",
   "metadata": {},
   "outputs": [
    {
     "data": {
      "image/png": "[encoded data removed]",
      "text/plain": [
       "<Figure size 600x400 with 1 Axes>"
      ]
     },
     "metadata": {},
     "output_type": "display_data"
    }
   ],
   "source": [
    "plt.figure(figsize=(6,4))\n",
    "sns.histplot(nyc[\"SCORE\"], kde=True, color=\"green\")\n",
    "plt.title(\"Univariate Analysis - SCORE Distribution\")\n",
    "plt.xlabel(\"SCORE\")\n",
    "plt.ylabel(\"Frequency\")\n",
    "plt.show()"
   ]
  },
  {
   "cell_type": "markdown",
   "id": "34ecfe38-c1e3-473e-8fed-4356a0dd63a9",
   "metadata": {},
   "source": [
    "### Insights\n",
    "- Most of the scores falls between 10 and 30.\n",
    "- The most significant peak is around the score of 23, means most restaurants have the common score.\n",
    "- A few restaurants have very high scores, meaning more violations indicating poor hygiene or safety standards.\n",
    "- The uneven score pattern suggests that some restaurants consistently perform better than others in inspections."
   ]
  },
  {
   "cell_type": "markdown",
   "id": "f9fe1783-7a29-4ef2-9b0b-76ef81e84f27",
   "metadata": {},
   "source": [
    "### Analyzing Geographical trends using Countplot,by counting how many inspections occurred in each borough (BORO)."
   ]
  },
  {
   "cell_type": "code",
   "execution_count": 51,
   "id": "c7496543-3c09-4bde-80ab-0a74afbd179a",
   "metadata": {},
   "outputs": [
    {
     "data": {
      "image/png": "[encoded data removed]",
      "text/plain": [
       "<Figure size 600x400 with 1 Axes>"
      ]
     },
     "metadata": {},
     "output_type": "display_data"
    }
   ],
   "source": [
    "plt.figure(figsize=(6,4))\n",
    "sns.countplot(data=nyc, x='BORO', palette='coolwarm')\n",
    "plt.title('Univariate Analysis - Number of Inspections by Borough')\n",
    "plt.xlabel('BORO')\n",
    "plt.ylabel('Count of Inspections')\n",
    "plt.show()"
   ]
  },
  {
   "cell_type": "markdown",
   "id": "5bf0c008-2fb9-4839-9d27-89bdac4f56b5",
   "metadata": {},
   "source": [
    "### Insights\n",
    "- Manhattan and Brooklyn have the highest number of inspections, showing they have the most restaurants.\n",
    "- Staten Island has the fewest inspections, meaning fewer food outlets operate there.\n",
    "- The large difference between boroughs suggests uneven restaurant distribution across NYC."
   ]
  },
  {
   "cell_type": "markdown",
   "id": "a3ce6774-7992-430e-89b1-0321487c3b93",
   "metadata": {},
   "source": [
    "## 2.Bivariate Analysis\n",
    "### The violin plot of SCORE by GRADE shows patterns in inspection scores & reveals trends across grades."
   ]
  },
  {
   "cell_type": "code",
   "execution_count": 52,
   "id": "89808259-e010-4b93-aff8-3fe7aa15349d",
   "metadata": {},
   "outputs": [
    {
     "data": {
      "image/png": "[encoded data removed]",
      "text/plain": [
       "<Figure size 600x400 with 1 Axes>"
      ]
     },
     "metadata": {},
     "output_type": "display_data"
    }
   ],
   "source": [
    "plt.figure(figsize=(6,4))\n",
    "sns.violinplot(data=nyc, x='GRADE', y='SCORE', palette='Set3')\n",
    "plt.title(\"SCORE Distribution by GRADE\")\n",
    "plt.xlabel(\"GRADE\")\n",
    "plt.ylabel(\"SCORE\")\n",
    "plt.show()"
   ]
  },
  {
   "cell_type": "markdown",
   "id": "c59eb20e-8ac3-4379-a3a1-b66fe86fd1a1",
   "metadata": {},
   "source": [
    "### Insights\n",
    "- Scores vary by grade, this shows different performance levels.\n",
    "- Grades C and Z have higher scores than others.\n",
    "- Grade P has the lowest scores, which indicating weaker performance.\n",
    "- This helps to identify restaurants needing attention."
   ]
  },
  {
   "cell_type": "markdown",
   "id": "0d0621d2-3159-4ec1-b3f7-c32de99a675d",
   "metadata": {},
   "source": [
    "### Lineplot for analyzing Time-Based Trend by using two variables SCORE & INSPECTION DATE by how the average score changes over time."
   ]
  },
  {
   "cell_type": "code",
   "execution_count": 53,
   "id": "0704290e-5f52-4d46-aeea-a25c25b4e997",
   "metadata": {},
   "outputs": [
    {
     "data": {
      "image/png": "[encoded data removed]",
      "text/plain": [
       "<Figure size 500x300 with 1 Axes>"
      ]
     },
     "metadata": {},
     "output_type": "display_data"
    }
   ],
   "source": [
    "nyc['Year'] = nyc['INSPECTION DATE'].dt.year\n",
    "plt.figure(figsize=(5,3))\n",
    "sns.lineplot(data=nyc, x='Year', y='SCORE', ci=None, marker='o')\n",
    "plt.title('Average Inspection Score by Year')\n",
    "plt.xlabel('Year')\n",
    "plt.ylabel('Average Score')\n",
    "plt.show()"
   ]
  },
  {
   "cell_type": "markdown",
   "id": "eae2eac8-5a09-4065-b100-cb4f9b1cbb2f",
   "metadata": {},
   "source": [
    "### Insights\n",
    "- Inspection scores improved over the years, showing better hygiene awareness.\n",
    "- Some years show score drops, possibly due to stricter inspection rules or new policies.\n",
    "- The overall upward trend indicates positive progress in food safety standards across NYC restaurants."
   ]
  },
  {
   "cell_type": "markdown",
   "id": "e5311b9f-7768-475e-b644-c534f0d24cee",
   "metadata": {},
   "source": [
    "## 3.Multivariate Analysis\n",
    "### Barplot to analyze patterns in inspection scores across grades,identifying areas for improvement & trends in restaurant performance (SCORE by GRADE & ACTION)."
   ]
  },
  {
   "cell_type": "code",
   "execution_count": 54,
   "id": "881d26a3-185a-4eb3-8c98-3b3dae042a57",
   "metadata": {},
   "outputs": [
    {
     "data": {
      "image/png": "[encoded data removed]",
      "text/plain": [
       "<Figure size 600x400 with 1 Axes>"
      ]
     },
     "metadata": {},
     "output_type": "display_data"
    }
   ],
   "source": [
    "plt.figure(figsize=(6,4))\n",
    "sns.barplot(x='GRADE', y='SCORE', hue='ACTION', data=nyc)\n",
    "plt.title(\"Multivariate Analysis \\n\\n SCORE by GRADE and ACTION\")\n",
    "plt.show()"
   ]
  },
  {
   "cell_type": "markdown",
   "id": "1c1801c8-1642-4582-8f18-13e69d06ba4c",
   "metadata": {},
   "source": [
    "### Insights\n",
    "- The majority of restaurants receiving \"Grade A\" had no recorded violations during inspection.\n",
    "- Establishments that were closed or re-closed by the DOHMH generally received lower health grades like 'N' or 'C'."
   ]
  },
  {
   "cell_type": "markdown",
   "id": "88ac2a3d-8e89-4a69-a4af-172adb4ff453",
   "metadata": {},
   "source": [
    "### CORRELATION HEATMAP\n",
    "### Converting CRITICAL FLAG to numeric to analyze the violations based on the inspection SCORE."
   ]
  },
  {
   "cell_type": "code",
   "execution_count": 55,
   "id": "47bd07d6-524a-44dd-a5e2-6a3c12be4420",
   "metadata": {},
   "outputs": [
    {
     "data": {
      "image/png": "[encoded data removed]",
      "text/plain": [
       "<Figure size 600x400 with 2 Axes>"
      ]
     },
     "metadata": {},
     "output_type": "display_data"
    }
   ],
   "source": [
    "nyc['CRITICAL_FLAG'] = nyc['CRITICAL FLAG'].map({'Not Critical': 0, 'Critical': 1})\n",
    "\n",
    "num_cols = ['SCORE', 'CRITICAL_FLAG']\n",
    "\n",
    "corr_matrix = nyc[num_cols].corr()\n",
    "\n",
    "plt.figure(figsize=(6,4))\n",
    "sns.heatmap(corr_matrix, annot=True)\n",
    "plt.title(\"Correlation Heatmap\")\n",
    "plt.show()"
   ]
  },
  {
   "cell_type": "markdown",
   "id": "d8d946c6-796b-4d3f-830f-289be4d5f2bd",
   "metadata": {},
   "source": [
    "### Insights\n",
    "- Both SCORE and CRITICL_FLAG show a perfect positive self-correlation of 1.0, means both variables move together.\n",
    "- A very weak positive correlation(0.13) exists between two variables.\n",
    "- Which indicating that higher scores are only minimally realated to having a critical violation flag.\n",
    "- The low correlation suggests that critical violations are not the primary key of restaurant's final health inspection score."
   ]
  },
  {
   "cell_type": "markdown",
   "id": "bdd101b3-8d41-4da6-ad87-478d2de91acc",
   "metadata": {},
   "source": [
    "## Overall Insights\n",
    "- Most NYC restaurants maintain good hygiene, achieving grade A.\n",
    "- A few restaurants consistently score low, indicating poor compliance.\n",
    "- Inspection scores vary by borough, with Manhattan and Brooklyn having the most inspections.\n",
    "- Scores have generally improved over the years, showing better food safety awareness.\n",
    "- Restaurants with critical violations have higher scores and need more attention.\n",
    "- Tracking scores and grades over time helps see improvement and focus on risky restaurant.\n",
    "- Data highlights areas and restaurants needing targeted improvement for public health safety."
   ]
  },
  {
   "cell_type": "code",
   "execution_count": null,
   "id": "2b25c84f-739a-45fe-add8-74403a5d8bdb",
   "metadata": {},
   "outputs": [],
   "source": []
  }
 ],
 "metadata": {
  "kernelspec": {
   "display_name": "Python 3 (ipykernel)",
   "language": "python",
   "name": "python3"
  },
  "language_info": {
   "codemirror_mode": {
    "name": "ipython",
    "version": 3
   },
   "file_extension": ".py",
   "mimetype": "text/x-python",
   "name": "python",
   "nbconvert_exporter": "python",
   "pygments_lexer": "ipython3",
   "version": "3.13.5"
  }
 },
 "nbformat": 4,
 "nbformat_minor": 5
}
